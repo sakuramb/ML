{
 "cells": [
  {
   "cell_type": "code",
   "execution_count": 1,
   "metadata": {
    "_cell_guid": "b1076dfc-b9ad-4769-8c92-a6c4dae69d19",
    "_uuid": "8f2839f25d086af736a60e9eeb907d3b93b6e0e5"
   },
   "outputs": [
    {
     "name": "stdout",
     "output_type": "stream",
     "text": [
      "/kaggle/input/titanic/gender_submission.csv\n",
      "/kaggle/input/titanic/test.csv\n",
      "/kaggle/input/titanic/train.csv\n"
     ]
    }
   ],
   "source": [
    "# This Python 3 environment comes with many helpful analytics libraries installed\n",
    "# It is defined by the kaggle/python docker image: https://github.com/kaggle/docker-python\n",
    "# For example, here's several helpful packages to load in \n",
    "\n",
    "import numpy as np # linear algebra\n",
    "import pandas as pd # data processing, CSV file I/O (e.g. pd.read_csv)\n",
    "import matplotlib.pyplot as plt\n",
    "\n",
    "# Input data files are available in the \"../input/\" directory.\n",
    "# For example, running this (by clicking run or pressing Shift+Enter) will list all files under the input directory\n",
    "\n",
    "import os\n",
    "for dirname, _, filenames in os.walk('/kaggle/input'):\n",
    "    for filename in filenames:\n",
    "        print(os.path.join(dirname, filename))\n",
    "\n",
    "# Any results you write to the current directory are saved as output."
   ]
  },
  {
   "cell_type": "code",
   "execution_count": 2,
   "metadata": {
    "_cell_guid": "79c7e3d0-c299-4dcb-8224-4455121ee9b0",
    "_uuid": "d629ff2d2480ee46fbb7e2d37f6b5fab8052498a"
   },
   "outputs": [
    {
     "name": "stdout",
     "output_type": "stream",
     "text": [
      "Number of Femele =314\n",
      "Number of Male =577\n"
     ]
    }
   ],
   "source": [
    "train_df = pd.read_csv('/kaggle/input/titanic/train.csv', header=0)\n",
    "female = train_df.query(\"Sex == 'female'\")\n",
    "\n",
    "male = train_df.query(\"Sex == 'male'\")\n",
    "\n",
    "print('Number of Femele =' + str(len(female)))\n",
    "print('Number of Male =' + str(len(male)))\n"
   ]
  },
  {
   "cell_type": "code",
   "execution_count": 3,
   "metadata": {},
   "outputs": [
    {
     "data": {
      "image/png": "[encoded data removed]",
      "text/plain": [
       "<Figure size 432x288 with 1 Axes>"
      ]
     },
     "metadata": {
      "needs_background": "light"
     },
     "output_type": "display_data"
    }
   ],
   "source": [
    "plt.title('Female vs Male (Bar Graph w/ Label)')\n",
    "plt.bar(['Female', 'Male'], [len(female), len(male)], color=['mistyrose', 'lightblue'])\n",
    "plt.text('Female', len(female), len(female), ha='center', va='bottom')\n",
    "plt.text('Male', len(male), len(male), ha='center', va='bottom')\n",
    "plt.show()"
   ]
  },
  {
   "cell_type": "code",
   "execution_count": 4,
   "metadata": {},
   "outputs": [
    {
     "name": "stdout",
     "output_type": "stream",
     "text": [
      "Number of Female (Dead)     = 81\n",
      "Number of Female (Survived) = 233\n",
      "Number of Male (Dead)       = 468\n",
      "Number of Male (Survived)   = 109\n"
     ]
    }
   ],
   "source": [
    "female_dead = train_df.query(\"Sex == 'female' & Survived == 0\")\n",
    "female_survived = train_df.query(\"Sex == 'female' & Survived == 1\")\n",
    "male_dead = train_df.query(\"Sex == 'male' & Survived == 0\")\n",
    "male_survived = train_df.query(\"Sex == 'male' & Survived == 1\")\n",
    "\n",
    "print('Number of Female (Dead)     = ' + str(len(female_dead)))\n",
    "print('Number of Female (Survived) = ' + str(len(female_survived)))\n",
    "print('Number of Male (Dead)       = ' + str(len(male_dead)))\n",
    "print('Number of Male (Survived)   = ' + str(len(male_survived)))"
   ]
  },
  {
   "cell_type": "code",
   "execution_count": 5,
   "metadata": {},
   "outputs": [
    {
     "data": {
      "image/png": "[encoded data removed]",
      "text/plain": [
       "<Figure size 432x288 with 1 Axes>"
      ]
     },
     "metadata": {
      "needs_background": "light"
     },
     "output_type": "display_data"
    }
   ],
   "source": [
    "plt.title('Female vs Male (Stacked Bar Graph)')\n",
    "plt.bar(['Female', 'Male'], [len(female_dead), len(male_dead)], color=['darkred', 'midnightblue'])\n",
    "plt.bar(['Female', 'Male'], [len(female_survived), len(male_survived)], bottom=[len(female_dead), len(male_dead)], color=['mistyrose', 'lightblue'])\n",
    "#bottom属性によって、棒グラフの底(始点)を最初に描画した死者の棒グラフの一番上に指定することで、積み上げ棒グラフになります。\n",
    "plt.show()"
   ]
  },
  {
   "cell_type": "code",
   "execution_count": 6,
   "metadata": {},
   "outputs": [
    {
     "data": {
      "image/png": "[encoded data removed]",
      "text/plain": [
       "<Figure size 432x288 with 1 Axes>"
      ]
     },
     "metadata": {
      "needs_background": "light"
     },
     "output_type": "display_data"
    }
   ],
   "source": [
    "plt.title('Female vs Male (Stacked Bar Graph w/ Label)')\n",
    "plt.bar(['Female', 'Male'], [len(female_dead), len(male_dead)], color=['darkred', 'midnightblue'])\n",
    "plt.bar(['Female', 'Male'], [len(female_survived), len(male_survived)], bottom=[len(female_dead), len(male_dead)], color=['mistyrose', 'lightblue'])\n",
    "plt.text('Female', len(female_dead)/2, \"Dead\\n\" + str(len(female_dead)), color='white', ha='center', va='center')\n",
    "plt.text('Female', len(female_dead) + len(male_survived)/2, \"Survived\\n\" + str(len(male_survived)), color='black', ha='center', va='center')\n",
    "plt.text('Male', len(male_dead)/2, \"Dead\\n\" + str(len(male_dead)), color='white', ha='center', va='center')\n",
    "plt.text('Male', len(male_dead) + len(male_survived)/2, \"Survived\\n\" + str(len(male_survived)), color='black', ha='center', va='center')\n",
    "plt.show()"
   ]
  },
  {
   "cell_type": "code",
   "execution_count": 7,
   "metadata": {},
   "outputs": [
    {
     "name": "stdout",
     "output_type": "stream",
     "text": [
      "   PassengerId  Survived\n",
      "0          892         0\n",
      "1          893         1\n",
      "2          894         0\n",
      "3          895         0\n",
      "4          896         1\n",
      "     PassengerId  Survived\n",
      "413         1305         0\n",
      "414         1306         1\n",
      "415         1307         0\n",
      "416         1308         0\n",
      "417         1309         0\n"
     ]
    }
   ],
   "source": [
    "test_df = pd.read_csv('/kaggle/input/titanic/test.csv', header=0)\n",
    "test_df[\"Survived\"] = 0\n",
    "test_df.loc[test_df[\"Sex\"] == 'female', \"Survived\"] = 1\n",
    "test_df = test_df.drop(['Pclass', 'Name', 'Sex', 'Age', 'SibSp', 'Parch', 'Ticket', 'Fare', 'Cabin', 'Embarked'], axis=1)\n",
    "print(test_df.head(5))\n",
    "print(test_df.tail(5))\n",
    "test_df.to_csv(path_or_buf='submission.csv', index=False)\n"
   ]
  },
  {
   "cell_type": "code",
   "execution_count": null,
   "metadata": {},
   "outputs": [],
   "source": []
  },
  {
   "cell_type": "code",
   "execution_count": null,
   "metadata": {},
   "outputs": [],
   "source": []
  }
 ],
 "metadata": {
  "kernelspec": {
   "display_name": "Python 3",
   "language": "python",
   "name": "python3"
  },
  "language_info": {
   "codemirror_mode": {
    "name": "ipython",
    "version": 3
   },
   "file_extension": ".py",
   "mimetype": "text/x-python",
   "name": "python",
   "nbconvert_exporter": "python",
   "pygments_lexer": "ipython3",
   "version": "3.6.6"
  }
 },
 "nbformat": 4,
 "nbformat_minor": 1
}