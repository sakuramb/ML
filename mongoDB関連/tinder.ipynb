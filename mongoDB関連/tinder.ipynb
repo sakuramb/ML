{
 "cells": [
  {
   "cell_type": "code",
   "execution_count": 37,
   "metadata": {},
   "outputs": [],
   "source": [
    "import werkzeug\n",
    "import os\n",
    "from dotenv import load_dotenv\n",
    "\n",
    "load_dotenv()\n",
    "werkzeug.cached_property = werkzeug.utils.cached_property"
   ]
  },
  {
   "cell_type": "code",
   "execution_count": 39,
   "metadata": {},
   "outputs": [],
   "source": [
    "from tinder_token.facebook import TinderTokenFacebookV2\n",
    "\n",
    "mail = os.environ['FB_MAIL']\n",
    "password = os.environ['FB_PASSWORD']\n",
    "\n",
    "# facebook = TinderTokenFacebookV2()\n",
    "# def sample_email_password(email: str, password: str) -> (str, str):\n",
    "#     return facebook.get_tinder_token(fb_email=email, fb_password=password)\n",
    "\n",
    "# api_token = sample_email_password(mail, password)[0]\n",
    "# print(api_token)"
   ]
  },
  {
   "cell_type": "markdown",
   "metadata": {},
   "source": [
    "Facebookにアクセスができない。。"
   ]
  }
 ],
 "metadata": {
  "language_info": {
   "codemirror_mode": {
    "name": "ipython",
    "version": 3
   },
   "file_extension": ".py",
   "mimetype": "text/x-python",
   "name": "python",
   "nbconvert_exporter": "python",
   "pygments_lexer": "ipython3",
   "version": "3.7.4-final"
  },
  "orig_nbformat": 2,
  "kernelspec": {
   "name": "python37464bittest2conda0db5a8ee20084fa4a0951df6bd4660da",
   "display_name": "Python 3.7.4 64-bit ('test2': conda)"
  }
 },
 "nbformat": 4,
 "nbformat_minor": 2
}