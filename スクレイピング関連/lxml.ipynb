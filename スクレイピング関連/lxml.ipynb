{
 "cells": [
  {
   "cell_type": "code",
   "execution_count": 4,
   "metadata": {},
   "outputs": [
    {
     "output_type": "stream",
     "name": "stdout",
     "text": "<class 'lxml.etree._ElementTree'>\n<class 'lxml.html.HtmlElement'>\n"
    }
   ],
   "source": [
    "import lxml.html\n",
    "from pymongo import MongoClient\n",
    "\n",
    "#parse()関数でファイルパスを指定してパースできる。#parse()関数にURLを指定することも可能だが、取得時の細かい設定ができないのであまりオススメしない。\n",
    "tree = lxml.html.parse('kinarino.html')\n",
    "#getroot()メソッドでhtml要素に対応するHtmlElementオブジェクトが得られる\n",
    "html = tree.getroot()\n",
    "\n",
    "print(type(tree))\n",
    "print(type(html))"
   ]
  },
  {
   "cell_type": "code",
   "execution_count": 5,
   "metadata": {},
   "outputs": [
    {
     "output_type": "execute_result",
     "data": {
      "text/plain": "[<Element div at 0x10e6c6ef0>,\n <Element div at 0x10e6c6fb0>,\n <Element div at 0x10e6c6f50>,\n <Element div at 0x10e6de050>,\n <Element div at 0x10e6de0b0>,\n <Element div at 0x10e6de110>,\n <Element div at 0x10e6de170>,\n <Element div at 0x10e6de1d0>,\n <Element div at 0x10e6de230>,\n <Element div at 0x10e6de290>,\n <Element div at 0x10e6de2f0>,\n <Element div at 0x10e6de350>,\n <Element div at 0x10e6de3b0>,\n <Element div at 0x10e6de410>,\n <Element div at 0x10e6de470>,\n <Element div at 0x10e6de4d0>,\n <Element div at 0x10e6de530>,\n <Element div at 0x10e6de590>]"
     },
     "metadata": {},
     "execution_count": 5
    }
   ],
   "source": [
    "html.cssselect('#js-content-main > .c-item')"
   ]
  },
  {
   "cell_type": "code",
   "execution_count": 27,
   "metadata": {},
   "outputs": [],
   "source": [
    "for a in html.cssselect('#js-content-main > .c-item > .c-item__content'):\n",
    "    a.h3\n",
    "    print(a)"
   ]
  },
  {
   "cell_type": "code",
   "execution_count": 15,
   "metadata": {},
   "outputs": [
    {
     "output_type": "execute_result",
     "data": {
      "text/plain": "lxml.html.HtmlElement"
     },
     "metadata": {},
     "execution_count": 15
    }
   ],
   "source": [
    "\n",
    "#fromstring()関数で文字列（str型またはbytes型）をパースできる。\n",
    "#\"\"\"〜\"\"\"（または'''〜'''）で囲われた部分は複数行文字列リテラルで、改行も含めて1つの文字列と解釈される。\n",
    "#なお、encodingが指定されたXML宣言を含むstrをパースすると、ValueErrorが発生するので注意が必要。\n",
    "\n",
    "html = lxml.html.fromstring(\n",
    "    \"\"\"\n",
    "    <html>\n",
    "        <head><title>八百屋オンライン</title></head>\n",
    "            <body>\n",
    "                <h1 id=\"main\"><strong>おいしい</strong>今日のくだもの</h1>\n",
    "                <ul>\n",
    "                    <li>りんご</li>\n",
    "                    <liclass=\"featured\">みかん</li>\n",
    "                    <li>ぶどう</li>\n",
    "                </ul>\n",
    "            </body>\n",
    "    </html>\n",
    "    \"\"\"\n",
    "    )\n",
    "type(html)"
   ]
  },
  {
   "cell_type": "code",
   "execution_count": 4,
   "metadata": {},
   "outputs": [
    {
     "output_type": "execute_result",
     "data": {
      "text/plain": "[<Element li at 0x110fb8890>, <Element li at 0x110fb8290>]"
     },
     "metadata": {},
     "execution_count": 4
    }
   ],
   "source": [
    "# XPathにマッチする要素のリスト\n",
    "html.xpath('//li')"
   ]
  },
  {
   "cell_type": "code",
   "execution_count": 5,
   "metadata": {},
   "outputs": [
    {
     "output_type": "execute_result",
     "data": {
      "text/plain": "[<Element li at 0x110fb8890>, <Element li at 0x110fb8290>]"
     },
     "metadata": {},
     "execution_count": 5
    }
   ],
   "source": [
    "# CSSセレクターにマッチする要素のリスト\n",
    "html.cssselect('li')"
   ]
  },
  {
   "cell_type": "code",
   "execution_count": 19,
   "metadata": {},
   "outputs": [
    {
     "output_type": "stream",
     "name": "stdout",
     "text": "h1\nNone\nmain\n{'id': 'main'}\n<Element body at 0x110fab350>\n"
    }
   ],
   "source": [
    "h1 = html.cssselect('h1')[0]\n",
    "print(h1.tag)\n",
    "print(h1.text)\n",
    "print(h1.get('id'))\n",
    "print(h1.attrib)\n",
    "print(h1.getparent())"
   ]
  },
  {
   "cell_type": "code",
   "execution_count": 20,
   "metadata": {},
   "outputs": [
    {
     "output_type": "stream",
     "name": "stdout",
     "text": "おいしい\n今日のくだもの\nNone\n\n                \nおいしい今日のくだもの\n"
    }
   ],
   "source": [
    "strong=h1.cssselect('strong')[0]\n",
    "#h1要素内のstrong要素を取得する\n",
    "print(strong.text)\n",
    "#text属性で要素のテキスト（より正確には開始タグ直後のテキスト）を取得できる。\n",
    "print(strong.tail)\n",
    "#tail属性で要素の直後のテキストを取得できる。\n",
    "print(h1.text)\n",
    "#h1要素は開始タグの直後に次の要素があり、テキストがないのでtext属性はNoneとなる。\n",
    "print(h1.tail)\n",
    "#h1要素の直後は改行文字。\n",
    "print(h1.text_content())\n",
    "#text_content()メソッドで要素内のすべてのテキストを結合した文字列が得られる。"
   ]
  },
  {
   "cell_type": "code",
   "execution_count": null,
   "metadata": {},
   "outputs": [],
   "source": []
  }
 ],
 "metadata": {
  "language_info": {
   "codemirror_mode": {
    "name": "ipython",
    "version": 3
   },
   "file_extension": ".py",
   "mimetype": "text/x-python",
   "name": "python",
   "nbconvert_exporter": "python",
   "pygments_lexer": "ipython3",
   "version": "3.7.4-final"
  },
  "orig_nbformat": 2,
  "kernelspec": {
   "name": "python37464bittest2conda0db5a8ee20084fa4a0951df6bd4660da",
   "display_name": "Python 3.7.4 64-bit ('test2': conda)"
  }
 },
 "nbformat": 4,
 "nbformat_minor": 2
}